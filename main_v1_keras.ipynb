{
  "cells": [
    {
      "cell_type": "markdown",
      "metadata": {
        "id": "view-in-github",
        "colab_type": "text"
      },
      "source": [
        "<a href=\"https://colab.research.google.com/github/sh3986/workplace/blob/master/main_v1_keras.ipynb\" target=\"_parent\"><img src=\"https://colab.research.google.com/assets/colab-badge.svg\" alt=\"Open In Colab\"/></a>"
      ]
    },
    {
      "cell_type": "code",
      "execution_count": 2,
      "metadata": {
        "colab": {
          "base_uri": "https://localhost:8080/"
        },
        "id": "_Epm51pVonvC",
        "outputId": "7396570a-70fd-4b8c-c002-8cef2b2f6e63"
      },
      "outputs": [
        {
          "output_type": "stream",
          "name": "stdout",
          "text": [
            "Mounted at /content/drive\n"
          ]
        }
      ],
      "source": [
        "from google.colab import drive\n",
        "drive.mount('/content/drive')"
      ]
    },
    {
      "cell_type": "markdown",
      "source": [
        "### Library"
      ],
      "metadata": {
        "id": "OwLZ_GHF7lWo"
      }
    },
    {
      "cell_type": "code",
      "source": [
        "import numpy as np \n",
        "import pandas as pd\n",
        "from tqdm import tqdm\n",
        "import matplotlib.pyplot as plt\n",
        "import seaborn as sns\n",
        "import warnings\n",
        "warnings.filterwarnings(\"ignore\")\n",
        "pd.options.display.float_format = \"{:.5f}\".format\n",
        "\n",
        "from sklearn.model_selection import train_test_split\n",
        "from sklearn.preprocessing import StandardScaler\n",
        "\n",
        "from sklearn.preprocessing import FunctionTransformer\n",
        "from sklearn.preprocessing import StandardScaler\n",
        "from sklearn.preprocessing import MinMaxScaler\n",
        "from sklearn.decomposition import PCA\n",
        "from sklearn.model_selection import train_test_split, cross_val_score, GridSearchCV\n",
        "from sklearn.metrics import mean_absolute_error\n",
        "from sklearn.pipeline import Pipeline\n",
        "\n",
        "import os\n",
        "from os import listdir\n",
        "from os.path import isfile, join\n",
        "import numpy as np\n",
        "import pandas as pd\n",
        "import matplotlib.pyplot as plt\n",
        "import cv2\n",
        "from PIL import Image\n",
        "from sklearn.metrics import f1_score\n",
        "from sklearn.utils.class_weight import compute_class_weight\n",
        "\n",
        "import tensorflow as tf\n",
        "from tensorflow.keras.utils import to_categorical\n",
        "from tensorflow.keras import Sequential, Input\n",
        "from tensorflow.keras.layers import Conv2D, MaxPool2D, Dense, Flatten, Dropout\n",
        "from tensorflow.keras import optimizers\n",
        "tf.__version__"
      ],
      "metadata": {
        "id": "1oEeswCJ7iHa",
        "colab": {
          "base_uri": "https://localhost:8080/",
          "height": 35
        },
        "outputId": "592c0df3-7158-4d99-85d5-86ca2ef7cff9"
      },
      "execution_count": 95,
      "outputs": [
        {
          "output_type": "execute_result",
          "data": {
            "text/plain": [
              "'2.8.0'"
            ],
            "application/vnd.google.colaboratory.intrinsic+json": {
              "type": "string"
            }
          },
          "metadata": {},
          "execution_count": 95
        }
      ]
    },
    {
      "cell_type": "code",
      "execution_count": 3,
      "metadata": {
        "id": "I_cpXO5cCJcu"
      },
      "outputs": [],
      "source": [
        "data_path = \"/content/drive/MyDrive/Colab Notebooks/Kaggle/project_2_cnn\""
      ]
    },
    {
      "cell_type": "code",
      "execution_count": 4,
      "metadata": {
        "id": "LPGUIETvooIW"
      },
      "outputs": [],
      "source": [
        "import os\n",
        "os.chdir(data_path)"
      ]
    },
    {
      "cell_type": "code",
      "execution_count": 5,
      "metadata": {
        "id": "CVGpL_hcnT7q"
      },
      "outputs": [],
      "source": [
        "data = []\n",
        "labels = []\n",
        "\n",
        "height = 30\n",
        "width = 30\n",
        "channels = 3\n",
        "num_classes = 43"
      ]
    },
    {
      "cell_type": "code",
      "source": [
        "# for i in range(num_classes) :\n",
        "#     path = f'./data/Train/{i}/'\n",
        "#     Class = os.listdir(path)\n",
        "#     for a in Class:\n",
        "#         image = cv2.imread(path + a)\n",
        "#         image_from_array = Image.fromarray(image, 'RGB')\n",
        "#         size_image = image_from_array.resize((height, width))\n",
        "#         data.append(np.array(size_image))\n",
        "#         labels.append(i)\n",
        "\n",
        "# data = np.array(data)\n",
        "# labels = np.array(labels)"
      ],
      "metadata": {
        "id": "npcCQbJbpMms"
      },
      "execution_count": null,
      "outputs": []
    },
    {
      "cell_type": "code",
      "source": [
        "# import pickle\n",
        "# with open(\"/content/drive/MyDrive/Colab Notebooks/Kaggle/project_2_cnn/data/train_data.pkl\",\"wb\") as f:\n",
        "#     pickle.dump(data, f)"
      ],
      "metadata": {
        "id": "ea0J361SlKuL"
      },
      "execution_count": null,
      "outputs": []
    },
    {
      "cell_type": "code",
      "source": [
        "# with open(\"/content/drive/MyDrive/Colab Notebooks/Kaggle/project_2_cnn/data/train_label.pkl\",\"wb\") as f:\n",
        "    # pickle.dump(labels, f)"
      ],
      "metadata": {
        "id": "o3WbErN9oOsD"
      },
      "execution_count": null,
      "outputs": []
    },
    {
      "cell_type": "code",
      "source": [
        "import pickle \n",
        "\n",
        "with open('./data/train_data.pkl', 'rb') as f:\n",
        "    data = pickle.load(f)\n",
        "\n",
        "with open('./data/train_label.pkl', 'rb') as f:\n",
        "    labels = pickle.load(f)"
      ],
      "metadata": {
        "id": "hFRPE5Ksqhug"
      },
      "execution_count": 6,
      "outputs": []
    },
    {
      "cell_type": "markdown",
      "metadata": {
        "id": "KgHuB6EFCjRP"
      },
      "source": [
        "### 전처리"
      ]
    },
    {
      "cell_type": "code",
      "execution_count": 11,
      "metadata": {
        "colab": {
          "base_uri": "https://localhost:8080/"
        },
        "id": "_wZrJJ8unT7r",
        "outputId": "5196d9ca-0ad9-413c-bd2d-8a1aea606899"
      },
      "outputs": [
        {
          "output_type": "stream",
          "name": "stdout",
          "text": [
            "(26010, 30, 30, 3)\n",
            "(26010,)\n"
          ]
        }
      ],
      "source": [
        "print(data.shape)\n",
        "print(labels.shape)"
      ]
    },
    {
      "cell_type": "code",
      "source": [
        "# for a in Class:\n",
        "#     image = cv2.imread(path + a)\n",
        "#     image_from_array = Image.fromarray(image, 'RGB')\n",
        "#     size_image = image_from_array.resize((height, width))\n",
        "#     data.append(np.array(size_image))\n",
        "#     labels.append(i)"
      ],
      "metadata": {
        "id": "89KMhZiDyNew"
      },
      "execution_count": null,
      "outputs": []
    },
    {
      "cell_type": "code",
      "execution_count": 115,
      "metadata": {
        "id": "c27_vUGZEUg3"
      },
      "outputs": [],
      "source": [
        "X_train, X_valid, y_train, y_valid = train_test_split(data, labels, test_size=0.2, random_state=42, stratify = labels)"
      ]
    },
    {
      "cell_type": "code",
      "source": [
        "X_train, X_test = X_train/255.0, X_valid/255.0"
      ],
      "metadata": {
        "id": "93TTagz97eDR"
      },
      "execution_count": 116,
      "outputs": []
    },
    {
      "cell_type": "code",
      "source": [
        "y_train = tf.stop_gradient(tf.one_hot(y_train, num_classes))\n",
        "y_valid_one_hot = tf.one_hot(y_valid, num_classes)"
      ],
      "metadata": {
        "id": "K-dhdspCr-XE"
      },
      "execution_count": 117,
      "outputs": []
    },
    {
      "cell_type": "markdown",
      "metadata": {
        "id": "e6PSTdpZClWN"
      },
      "source": [
        "### 모델 생성"
      ]
    },
    {
      "cell_type": "code",
      "source": [
        "model = Sequential()\n",
        "\n",
        "model.add(Input(shape=(30,30,3)))\n",
        "model.add(Conv2D(32, 5, [1,1], activation='relu', padding='same'))\n",
        "model.add(Conv2D(64, 5, [1,1], activation='relu', padding='same'))\n",
        "model.add(MaxPool2D((2,2), (2,2), padding='same'))\n",
        "model.add(Conv2D(128, 5, [1,1], activation='relu', padding='same'))\n",
        "model.add(Conv2D(64, 5, [1,1], activation='relu', padding='same'))\n",
        "model.add(Flatten())\n",
        "model.add(Dense(num_classes, activation='softmax'))\n",
        "\n",
        "# model = models.Sequential()\n",
        "# model.add(layers.Flatten(input_shape=(4,4,512)))\n",
        "# model.add(layers.Dense(256, activation='relu', input_dim=(4*4*512)))\n",
        "# model.add(layers.Dropout(0.5))\n",
        "# model.add(layers.Dense(num_classes, activation='softmax'))\n",
        "# model.summary()\n",
        "\n",
        "model.summary()"
      ],
      "metadata": {
        "colab": {
          "base_uri": "https://localhost:8080/"
        },
        "id": "B_Kpj1UksG17",
        "outputId": "c6f06287-d08d-4ce1-e07a-cff6525ea567"
      },
      "execution_count": 118,
      "outputs": [
        {
          "output_type": "stream",
          "name": "stdout",
          "text": [
            "Model: \"sequential_16\"\n",
            "_________________________________________________________________\n",
            " Layer (type)                Output Shape              Param #   \n",
            "=================================================================\n",
            " conv2d_46 (Conv2D)          (None, 30, 30, 32)        2432      \n",
            "                                                                 \n",
            " conv2d_47 (Conv2D)          (None, 30, 30, 64)        51264     \n",
            "                                                                 \n",
            " max_pooling2d_15 (MaxPoolin  (None, 15, 15, 64)       0         \n",
            " g2D)                                                            \n",
            "                                                                 \n",
            " conv2d_48 (Conv2D)          (None, 15, 15, 128)       204928    \n",
            "                                                                 \n",
            " conv2d_49 (Conv2D)          (None, 15, 15, 64)        204864    \n",
            "                                                                 \n",
            " flatten_15 (Flatten)        (None, 14400)             0         \n",
            "                                                                 \n",
            " dense_15 (Dense)            (None, 43)                619243    \n",
            "                                                                 \n",
            "=================================================================\n",
            "Total params: 1,082,731\n",
            "Trainable params: 1,082,731\n",
            "Non-trainable params: 0\n",
            "_________________________________________________________________\n"
          ]
        }
      ]
    },
    {
      "cell_type": "code",
      "source": [
        "model.compile(optimizer=optimizers.Adam(), loss='categorical_crossentropy', metrics=['acc'])"
      ],
      "metadata": {
        "id": "a28EspwbsdST"
      },
      "execution_count": 119,
      "outputs": []
    },
    {
      "cell_type": "markdown",
      "metadata": {
        "id": "Ppxs05weCmhk"
      },
      "source": [
        "### 모델 학습"
      ]
    },
    {
      "cell_type": "code",
      "source": [
        "model.fit(X_train, y_train, batch_size=1024, epochs=20, shuffle=True, validation_data=(X_valid, y_valid_one_hot))"
      ],
      "metadata": {
        "colab": {
          "base_uri": "https://localhost:8080/"
        },
        "id": "k0AtB1EWsobs",
        "outputId": "f5b5fe6f-0019-4ebe-c5dd-7acdcc9867aa"
      },
      "execution_count": 120,
      "outputs": [
        {
          "output_type": "stream",
          "name": "stdout",
          "text": [
            "Epoch 1/20\n",
            "21/21 [==============================] - 2s 59ms/step - loss: 3.5729 - acc: 0.0559 - val_loss: 97.5782 - val_acc: 0.0815\n",
            "Epoch 2/20\n",
            "21/21 [==============================] - 1s 51ms/step - loss: 3.0198 - acc: 0.1820 - val_loss: 152.7282 - val_acc: 0.2832\n",
            "Epoch 3/20\n",
            "21/21 [==============================] - 1s 51ms/step - loss: 1.7856 - acc: 0.4724 - val_loss: 103.0725 - val_acc: 0.5925\n",
            "Epoch 4/20\n",
            "21/21 [==============================] - 1s 51ms/step - loss: 0.8144 - acc: 0.7487 - val_loss: 53.2248 - val_acc: 0.7449\n",
            "Epoch 5/20\n",
            "21/21 [==============================] - 1s 51ms/step - loss: 0.3986 - acc: 0.8776 - val_loss: 53.1720 - val_acc: 0.8093\n",
            "Epoch 6/20\n",
            "21/21 [==============================] - 1s 51ms/step - loss: 0.2202 - acc: 0.9342 - val_loss: 44.9235 - val_acc: 0.8260\n",
            "Epoch 7/20\n",
            "21/21 [==============================] - 1s 51ms/step - loss: 0.1273 - acc: 0.9645 - val_loss: 32.0629 - val_acc: 0.8695\n",
            "Epoch 8/20\n",
            "21/21 [==============================] - 1s 51ms/step - loss: 0.0844 - acc: 0.9772 - val_loss: 27.4909 - val_acc: 0.9045\n",
            "Epoch 9/20\n",
            "21/21 [==============================] - 1s 51ms/step - loss: 0.0506 - acc: 0.9873 - val_loss: 35.3268 - val_acc: 0.8839\n",
            "Epoch 10/20\n",
            "21/21 [==============================] - 1s 51ms/step - loss: 0.0384 - acc: 0.9896 - val_loss: 37.7901 - val_acc: 0.8814\n",
            "Epoch 11/20\n",
            "21/21 [==============================] - 1s 51ms/step - loss: 0.0290 - acc: 0.9929 - val_loss: 33.0145 - val_acc: 0.8939\n",
            "Epoch 12/20\n",
            "21/21 [==============================] - 1s 51ms/step - loss: 0.0217 - acc: 0.9951 - val_loss: 30.2323 - val_acc: 0.9102\n",
            "Epoch 13/20\n",
            "21/21 [==============================] - 1s 51ms/step - loss: 0.0145 - acc: 0.9966 - val_loss: 33.7772 - val_acc: 0.9162\n",
            "Epoch 14/20\n",
            "21/21 [==============================] - 1s 51ms/step - loss: 0.0136 - acc: 0.9968 - val_loss: 39.0503 - val_acc: 0.8920\n",
            "Epoch 15/20\n",
            "21/21 [==============================] - 1s 51ms/step - loss: 0.0077 - acc: 0.9987 - val_loss: 36.9316 - val_acc: 0.9256\n",
            "Epoch 16/20\n",
            "21/21 [==============================] - 1s 51ms/step - loss: 0.0056 - acc: 0.9989 - val_loss: 35.1015 - val_acc: 0.9285\n",
            "Epoch 17/20\n",
            "21/21 [==============================] - 1s 51ms/step - loss: 0.0060 - acc: 0.9987 - val_loss: 27.9585 - val_acc: 0.9379\n",
            "Epoch 18/20\n",
            "21/21 [==============================] - 1s 51ms/step - loss: 0.0036 - acc: 0.9993 - val_loss: 29.7554 - val_acc: 0.9360\n",
            "Epoch 19/20\n",
            "21/21 [==============================] - 1s 51ms/step - loss: 0.0022 - acc: 0.9998 - val_loss: 36.3954 - val_acc: 0.9271\n",
            "Epoch 20/20\n",
            "21/21 [==============================] - 1s 51ms/step - loss: 0.0017 - acc: 0.9999 - val_loss: 36.4940 - val_acc: 0.9287\n"
          ]
        },
        {
          "output_type": "execute_result",
          "data": {
            "text/plain": [
              "<keras.callbacks.History at 0x7f12fa5374d0>"
            ]
          },
          "metadata": {},
          "execution_count": 120
        }
      ]
    },
    {
      "cell_type": "markdown",
      "metadata": {
        "id": "l9Pw_Y-DCo2_"
      },
      "source": [
        "### 모델 테스트"
      ]
    },
    {
      "cell_type": "code",
      "source": [
        "from sklearn.metrics import classification_report, confusion_matrix\n",
        "\n",
        "y_pred = model.predict(X_valid)\n",
        "y_pred = tf.argmax(y_pred, axis=1).numpy()"
      ],
      "metadata": {
        "id": "O5NFYdtTVfFU"
      },
      "execution_count": 121,
      "outputs": []
    },
    {
      "cell_type": "code",
      "source": [
        "print(classification_report(y_valid, y_pred))"
      ],
      "metadata": {
        "colab": {
          "base_uri": "https://localhost:8080/"
        },
        "id": "wh5imwp-ZGzC",
        "outputId": "98006e4c-50e9-4342-c1a8-1f301ef7054f"
      },
      "execution_count": 122,
      "outputs": [
        {
          "output_type": "stream",
          "name": "stdout",
          "text": [
            "              precision    recall  f1-score   support\n",
            "\n",
            "           0       0.71      1.00      0.83        36\n",
            "           1       0.78      0.99      0.88       252\n",
            "           2       0.81      0.97      0.88       252\n",
            "           3       0.93      0.90      0.91       252\n",
            "           4       0.93      0.95      0.94       252\n",
            "           5       0.97      0.68      0.80       252\n",
            "           6       1.00      1.00      1.00        36\n",
            "           7       0.91      0.88      0.90       252\n",
            "           8       0.99      0.73      0.84       252\n",
            "           9       0.96      0.95      0.96       252\n",
            "          10       0.98      0.94      0.96       252\n",
            "          11       0.93      0.96      0.95       252\n",
            "          12       0.97      1.00      0.98       252\n",
            "          13       0.96      1.00      0.98       252\n",
            "          14       0.98      1.00      0.99       126\n",
            "          15       0.79      0.98      0.88       126\n",
            "          16       1.00      0.94      0.97        36\n",
            "          17       1.00      0.96      0.98       126\n",
            "          18       0.86      1.00      0.92       126\n",
            "          19       1.00      0.94      0.97        36\n",
            "          20       1.00      0.78      0.88        36\n",
            "          21       1.00      0.53      0.69        36\n",
            "          22       0.95      1.00      0.97        36\n",
            "          23       1.00      0.89      0.94        36\n",
            "          24       0.82      1.00      0.90        36\n",
            "          25       0.98      0.96      0.97       252\n",
            "          26       1.00      0.67      0.80        36\n",
            "          27       0.95      0.53      0.68        36\n",
            "          28       0.80      1.00      0.89        36\n",
            "          29       0.68      0.78      0.73        36\n",
            "          30       0.97      0.81      0.88        36\n",
            "          31       0.90      0.98      0.94       126\n",
            "          32       1.00      0.97      0.99        36\n",
            "          33       0.99      1.00      1.00       126\n",
            "          34       1.00      0.97      0.99        36\n",
            "          35       0.99      0.98      0.99       126\n",
            "          36       0.97      0.97      0.97        36\n",
            "          37       1.00      1.00      1.00        36\n",
            "          38       0.99      1.00      0.99       252\n",
            "          39       0.97      1.00      0.99        36\n",
            "          40       0.97      0.92      0.94        36\n",
            "          41       1.00      1.00      1.00        36\n",
            "          42       0.92      1.00      0.96        36\n",
            "\n",
            "    accuracy                           0.93      5202\n",
            "   macro avg       0.94      0.92      0.92      5202\n",
            "weighted avg       0.94      0.93      0.93      5202\n",
            "\n"
          ]
        }
      ]
    },
    {
      "cell_type": "code",
      "source": [
        "print(confusion_matrix(y_valid, y_pred, labels=range(9)))"
      ],
      "metadata": {
        "colab": {
          "base_uri": "https://localhost:8080/"
        },
        "id": "Dg5u-pbXZ3Rj",
        "outputId": "b8111ebd-8f12-43eb-87d4-4b7a3ff8db87"
      },
      "execution_count": 123,
      "outputs": [
        {
          "output_type": "stream",
          "name": "stdout",
          "text": [
            "[[ 36   0   0   0   0   0   0   0   0]\n",
            " [  0 250   1   0   1   0   0   0   0]\n",
            " [  0   6 244   1   0   0   0   0   0]\n",
            " [  0   3  10 226   0   2   0   0   0]\n",
            " [  3   7   0   0 240   0   0   0   0]\n",
            " [  1   7  40   4   0 171   0  11   1]\n",
            " [  0   0   0   0   0   0  36   0   0]\n",
            " [  0  13   5   0   2   0   0 222   1]\n",
            " [ 11  23   0   0  10   2   0   8 183]]\n"
          ]
        }
      ]
    },
    {
      "cell_type": "markdown",
      "source": [
        "### 주석"
      ],
      "metadata": {
        "id": "8HsLSx_iELlq"
      }
    }
  ],
  "metadata": {
    "accelerator": "GPU",
    "colab": {
      "collapsed_sections": [],
      "machine_shape": "hm",
      "name": "main_v1_keras.ipynb",
      "provenance": [],
      "include_colab_link": true
    },
    "kernelspec": {
      "display_name": "Python 3 (ipykernel)",
      "language": "python",
      "name": "python3"
    },
    "language_info": {
      "codemirror_mode": {
        "name": "ipython",
        "version": 3
      },
      "file_extension": ".py",
      "mimetype": "text/x-python",
      "name": "python",
      "nbconvert_exporter": "python",
      "pygments_lexer": "ipython3",
      "version": "3.9.7"
    }
  },
  "nbformat": 4,
  "nbformat_minor": 0
}